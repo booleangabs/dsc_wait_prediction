{
 "cells": [
  {
   "cell_type": "markdown",
   "id": "8b07d58a-3494-41a9-955f-135db9b97d8d",
   "metadata": {},
   "source": [
    "## Imports"
   ]
  },
  {
   "cell_type": "code",
   "execution_count": 189,
   "id": "3e8943de-5ca5-4445-911d-42d5cf5d2fdb",
   "metadata": {},
   "outputs": [],
   "source": [
    "import polars as pl\n",
    "import matplotlib.pyplot as plt\n",
    "import seaborn as sns\n",
    "import numpy as np\n",
    "import os\n",
    "from pathlib import Path\n",
    "from datetime import datetime\n",
    "import metpy.io as mtio\n",
    "import metpy.calc as mtcl\n",
    "import metpy.units as mtun\n",
    "import pandas as pd\n",
    "from tqdm import tqdm\n",
    "import math\n",
    "\n",
    "sns.set()"
   ]
  },
  {
   "cell_type": "markdown",
   "id": "c6ce940f-d834-44d8-be60-793113071ecd",
   "metadata": {},
   "source": [
    "## Reading data"
   ]
  },
  {
   "cell_type": "code",
   "execution_count": 190,
   "id": "ac4b4039-a9d3-4b3d-bb06-711bd72c2850",
   "metadata": {},
   "outputs": [],
   "source": [
    "data_dir = Path(os.getcwd()).parent/\"data\"/\"interm\"\n",
    "main_ds = pl.read_csv(data_dir/\"train_val.csv\", null_values=\"NA\")"
   ]
  },
  {
   "cell_type": "code",
   "execution_count": 191,
   "id": "68d15578-2810-424b-a512-6d5b2739d522",
   "metadata": {},
   "outputs": [
    {
     "name": "stdout",
     "output_type": "stream",
     "text": [
      "shape: (5, 10)\n",
      "┌─────────────────────┬────────────────────┬────────┬─────────┬───┬────────────────────┬────────────────────┬────────────────────┬────────┐\n",
      "│ flightid            ┆ hora_ref           ┆ origem ┆ destino ┆ … ┆ metar              ┆ prev_troca_cabecei ┆ troca_cabeceira_ho ┆ espera │\n",
      "│ ---                 ┆ ---                ┆ ---    ┆ ---     ┆   ┆ ---                ┆ ra                 ┆ ra_anterior        ┆ ---    │\n",
      "│ str                 ┆ str                ┆ str    ┆ str     ┆   ┆ str                ┆ ---                ┆ ---                ┆ i64    │\n",
      "│                     ┆                    ┆        ┆         ┆   ┆                    ┆ i64                ┆ i64                ┆        │\n",
      "╞═════════════════════╪════════════════════╪════════╪═════════╪═══╪════════════════════╪════════════════════╪════════════════════╪════════╡\n",
      "│ 504a62621cd231d6ab6 ┆ 2022-06-01T01:00:0 ┆ SBCF   ┆ SBFL    ┆ … ┆ METAR SBFL 010000Z ┆ 0                  ┆ 1                  ┆ 0      │\n",
      "│ 7e674ce538cd3       ┆ 0Z                 ┆        ┆         ┆   ┆ 17009KT 140V2…     ┆                    ┆                    ┆        │\n",
      "│ b0fd0f83644625ecc21 ┆ 2022-06-01T01:00:0 ┆ SBPA   ┆ SBFL    ┆ … ┆ METAR SBFL 010000Z ┆ 0                  ┆ 1                  ┆ 0      │\n",
      "│ f5261e8e5e347       ┆ 0Z                 ┆        ┆         ┆   ┆ 17009KT 140V2…     ┆                    ┆                    ┆        │\n",
      "│ 1210f0ca07ddca00d09 ┆ 2022-06-01T01:00:0 ┆ SBSP   ┆ SBCF    ┆ … ┆ METAR SBCF 010000Z ┆ 0                  ┆ 0                  ┆ 0      │\n",
      "│ a3e02d3b100d8       ┆ 0Z                 ┆        ┆         ┆   ┆ 12006KT CAVOK…     ┆                    ┆                    ┆        │\n",
      "│ b25032f34507cce285e ┆ 2022-06-01T01:00:0 ┆ SBGR   ┆ SBCT    ┆ … ┆ METAR SBCT 010000Z ┆ 0                  ┆ 0                  ┆ 0      │\n",
      "│ e779446496568       ┆ 0Z                 ┆        ┆         ┆   ┆ 10006KT 7000 …     ┆                    ┆                    ┆        │\n",
      "│ 00762a9892ecba7c66d ┆ 2022-06-01T01:00:0 ┆ SBSP   ┆ SBSV    ┆ … ┆ METAR SBSV 010000Z ┆ 0                  ┆ 1                  ┆ 0      │\n",
      "│ 1d87800d38cac       ┆ 0Z                 ┆        ┆         ┆   ┆ 11008KT 9999 …     ┆                    ┆                    ┆        │\n",
      "└─────────────────────┴────────────────────┴────────┴─────────┴───┴────────────────────┴────────────────────┴────────────────────┴────────┘\n"
     ]
    }
   ],
   "source": [
    "print(main_ds.head())"
   ]
  },
  {
   "cell_type": "code",
   "execution_count": 192,
   "id": "0af4c619-99c9-45ab-95ea-5a8d9f4e6b8c",
   "metadata": {},
   "outputs": [
    {
     "data": {
      "text/plain": [
       "OrderedDict([('flightid', String),\n",
       "             ('hora_ref', String),\n",
       "             ('origem', String),\n",
       "             ('destino', String),\n",
       "             ('url_img_satelite', String),\n",
       "             ('metaf', String),\n",
       "             ('metar', String),\n",
       "             ('prev_troca_cabeceira', Int64),\n",
       "             ('troca_cabeceira_hora_anterior', Int64),\n",
       "             ('espera', Int64)])"
      ]
     },
     "execution_count": 192,
     "metadata": {},
     "output_type": "execute_result"
    }
   ],
   "source": [
    "main_ds.schema"
   ]
  },
  {
   "cell_type": "markdown",
   "id": "f55684a4-4280-4773-b624-3f5a35d40e40",
   "metadata": {},
   "source": [
    "## Description of each column"
   ]
  },
  {
   "cell_type": "code",
   "execution_count": 193,
   "id": "e51c43ab-ef5f-48b7-9d12-6e75851e0c8e",
   "metadata": {},
   "outputs": [
    {
     "name": "stdout",
     "output_type": "stream",
     "text": [
      "shape: (9, 11)\n",
      "┌────────────┬────────────────────┬───────────────────┬────────┬───┬───────────────────┬───────────────────┬───────────────────┬──────────┐\n",
      "│ statistic  ┆ flightid           ┆ hora_ref          ┆ origem ┆ … ┆ metar             ┆ prev_troca_cabece ┆ troca_cabeceira_h ┆ espera   │\n",
      "│ ---        ┆ ---                ┆ ---               ┆ ---    ┆   ┆ ---               ┆ ira               ┆ ora_anterior      ┆ ---      │\n",
      "│ str        ┆ str                ┆ str               ┆ str    ┆   ┆ str               ┆ ---               ┆ ---               ┆ f64      │\n",
      "│            ┆                    ┆                   ┆        ┆   ┆                   ┆ f64               ┆ f64               ┆          │\n",
      "╞════════════╪════════════════════╪═══════════════════╪════════╪═══╪═══════════════════╪═══════════════════╪═══════════════════╪══════════╡\n",
      "│ count      ┆ 211679             ┆ 211679            ┆ 211679 ┆ … ┆ 210055            ┆ 211679.0          ┆ 211679.0          ┆ 211679.0 │\n",
      "│ null_count ┆ 0                  ┆ 0                 ┆ 0      ┆ … ┆ 1624              ┆ 0.0               ┆ 0.0               ┆ 0.0      │\n",
      "│ mean       ┆ null               ┆ null              ┆ null   ┆ … ┆ null              ┆ 0.317188          ┆ 0.224302          ┆ 0.017413 │\n",
      "│ std        ┆ null               ┆ null              ┆ null   ┆ … ┆ null              ┆ 0.465382          ┆ 0.417123          ┆ 0.130805 │\n",
      "│ min        ┆ 0000f76a51b99be3f1 ┆ 2022-06-01T01:00: ┆ SBBR   ┆ … ┆ METAR COR SBBR    ┆ 0.0               ┆ 0.0               ┆ 0.0      │\n",
      "│            ┆ 81ea2b201b34ef     ┆ 00Z               ┆        ┆   ┆ 031400Z 30008KT   ┆                   ┆                   ┆          │\n",
      "│            ┆                    ┆                   ┆        ┆   ┆ 9…                ┆                   ┆                   ┆          │\n",
      "│ 25%        ┆ null               ┆ null              ┆ null   ┆ … ┆ null              ┆ 0.0               ┆ 0.0               ┆ 0.0      │\n",
      "│ 50%        ┆ null               ┆ null              ┆ null   ┆ … ┆ null              ┆ 0.0               ┆ 0.0               ┆ 0.0      │\n",
      "│ 75%        ┆ null               ┆ null              ┆ null   ┆ … ┆ null              ┆ 1.0               ┆ 0.0               ┆ 0.0      │\n",
      "│ max        ┆ ffffd4331f8b78c6e7 ┆ 2023-02-16T13:00: ┆ SBSV   ┆ … ┆ METAR SBSV        ┆ 1.0               ┆ 1.0               ┆ 1.0      │\n",
      "│            ┆ 26eda4e6a2f5ac     ┆ 00Z               ┆        ┆   ┆ 312300Z 16012KT   ┆                   ┆                   ┆          │\n",
      "│            ┆                    ┆                   ┆        ┆   ┆ 9999 …            ┆                   ┆                   ┆          │\n",
      "└────────────┴────────────────────┴───────────────────┴────────┴───┴───────────────────┴───────────────────┴───────────────────┴──────────┘\n"
     ]
    }
   ],
   "source": [
    "print(main_ds.describe())"
   ]
  },
  {
   "cell_type": "markdown",
   "id": "51cc994a-ed0a-4e67-9a4b-d191512504ac",
   "metadata": {},
   "source": [
    "## Learning to process 'hora_ref'"
   ]
  },
  {
   "cell_type": "code",
   "execution_count": 194,
   "id": "51d40a1b-e2ae-44e3-870d-28accd468e35",
   "metadata": {},
   "outputs": [
    {
     "data": {
      "text/plain": [
       "'2022-06-01T01:00:00Z'"
      ]
     },
     "execution_count": 194,
     "metadata": {},
     "output_type": "execute_result"
    }
   ],
   "source": [
    "main_ds[\"hora_ref\"][0] # visualize first element"
   ]
  },
  {
   "cell_type": "code",
   "execution_count": 195,
   "id": "4113dab6-1921-4da6-bf91-28b22903d4c6",
   "metadata": {},
   "outputs": [
    {
     "data": {
      "text/plain": [
       "True"
      ]
     },
     "execution_count": 195,
     "metadata": {},
     "output_type": "execute_result"
    }
   ],
   "source": [
    "main_ds[\"hora_ref\"].str.ends_with(\"Z\").all() # check if all follow this format"
   ]
  },
  {
   "cell_type": "markdown",
   "id": "14a3c3c1-c421-433a-a60f-98cb14af643b",
   "metadata": {},
   "source": [
    "### Casting to datetime"
   ]
  },
  {
   "cell_type": "code",
   "execution_count": 196,
   "id": "73ebe6da-e235-4ca5-aed1-bfaad9b7d8e1",
   "metadata": {},
   "outputs": [
    {
     "name": "stdout",
     "output_type": "stream",
     "text": [
      "shape: (5, 10)\n",
      "┌──────────────────────┬──────────────┬────────┬─────────┬───┬──────────────────────┬──────────────────────┬─────────────────────┬────────┐\n",
      "│ flightid             ┆ hora_ref     ┆ origem ┆ destino ┆ … ┆ metar                ┆ prev_troca_cabeceira ┆ troca_cabeceira_hor ┆ espera │\n",
      "│ ---                  ┆ ---          ┆ ---    ┆ ---     ┆   ┆ ---                  ┆ ---                  ┆ a_anterior          ┆ ---    │\n",
      "│ str                  ┆ datetime[μs] ┆ str    ┆ str     ┆   ┆ str                  ┆ i64                  ┆ ---                 ┆ i64    │\n",
      "│                      ┆              ┆        ┆         ┆   ┆                      ┆                      ┆ i64                 ┆        │\n",
      "╞══════════════════════╪══════════════╪════════╪═════════╪═══╪══════════════════════╪══════════════════════╪═════════════════════╪════════╡\n",
      "│ 504a62621cd231d6ab67 ┆ 2022-06-01   ┆ SBCF   ┆ SBFL    ┆ … ┆ METAR SBFL 010000Z   ┆ 0                    ┆ 1                   ┆ 0      │\n",
      "│ e674ce538cd3         ┆ 01:00:00     ┆        ┆         ┆   ┆ 17009KT 140V2…       ┆                      ┆                     ┆        │\n",
      "│ b0fd0f83644625ecc21f ┆ 2022-06-01   ┆ SBPA   ┆ SBFL    ┆ … ┆ METAR SBFL 010000Z   ┆ 0                    ┆ 1                   ┆ 0      │\n",
      "│ 5261e8e5e347         ┆ 01:00:00     ┆        ┆         ┆   ┆ 17009KT 140V2…       ┆                      ┆                     ┆        │\n",
      "│ 1210f0ca07ddca00d09a ┆ 2022-06-01   ┆ SBSP   ┆ SBCF    ┆ … ┆ METAR SBCF 010000Z   ┆ 0                    ┆ 0                   ┆ 0      │\n",
      "│ 3e02d3b100d8         ┆ 01:00:00     ┆        ┆         ┆   ┆ 12006KT CAVOK…       ┆                      ┆                     ┆        │\n",
      "│ b25032f34507cce285ee ┆ 2022-06-01   ┆ SBGR   ┆ SBCT    ┆ … ┆ METAR SBCT 010000Z   ┆ 0                    ┆ 0                   ┆ 0      │\n",
      "│ 779446496568         ┆ 01:00:00     ┆        ┆         ┆   ┆ 10006KT 7000 …       ┆                      ┆                     ┆        │\n",
      "│ 00762a9892ecba7c66d1 ┆ 2022-06-01   ┆ SBSP   ┆ SBSV    ┆ … ┆ METAR SBSV 010000Z   ┆ 0                    ┆ 1                   ┆ 0      │\n",
      "│ d87800d38cac         ┆ 01:00:00     ┆        ┆         ┆   ┆ 11008KT 9999 …       ┆                      ┆                     ┆        │\n",
      "└──────────────────────┴──────────────┴────────┴─────────┴───┴──────────────────────┴──────────────────────┴─────────────────────┴────────┘\n"
     ]
    }
   ],
   "source": [
    "main_ds = main_ds.with_columns(\n",
    "    pl.col(\"hora_ref\").cast(pl.Datetime)\n",
    ")\n",
    "print(main_ds.head())"
   ]
  },
  {
   "cell_type": "markdown",
   "id": "3c3a04eb-0de1-40f7-a8f9-6227dfb50e4b",
   "metadata": {},
   "source": [
    "### Visualizing some possible (pre-)features"
   ]
  },
  {
   "cell_type": "code",
   "execution_count": 197,
   "id": "2bea75f1-8a1c-4dff-98ee-82c58f2d23a0",
   "metadata": {},
   "outputs": [
    {
     "name": "stdout",
     "output_type": "stream",
     "text": [
      "2022 6 1 2 11 0\n"
     ]
    }
   ],
   "source": [
    "dt = main_ds[\"hora_ref\"][200]\n",
    "print(dt.year, dt.month, dt.day, dt.weekday(), dt.hour, dt.minute)"
   ]
  },
  {
   "cell_type": "markdown",
   "id": "1e2adddc-b87f-4149-954e-d7a1273ca52e",
   "metadata": {},
   "source": [
    "## Learning to process 'metar' and 'metaf'"
   ]
  },
  {
   "cell_type": "code",
   "execution_count": 198,
   "id": "9626506c-4688-4509-a8a8-9ae2a0d282dd",
   "metadata": {},
   "outputs": [
    {
     "data": {
      "text/plain": [
       "metar(station_id='SBFL', latitude=-27.67, longitude=-48.53, elevation=5, date_time=datetime.datetime(2022, 6, 1, 0, 0), wind_direction=170, wind_speed=9.0, wind_gust=nan, visibility=9999, current_wx1=nan, current_wx2=nan, current_wx3=nan, skyc1='BKN', skylev1=3000.0, skyc2=nan, skylev2=nan, skyc3=nan, skylev3=nan, skyc4=nan, skylev4=nan, cloudcover=6, temperature=14.0, dewpoint=7.0, altimeter=30.1205829670303, current_wx1_symbol=0, current_wx2_symbol=0, current_wx3_symbol=0, remarks='')"
      ]
     },
     "execution_count": 198,
     "metadata": {},
     "output_type": "execute_result"
    }
   ],
   "source": [
    "i = 0\n",
    "mtio.metar.parse_metar(main_ds[\"metar\"][i], main_ds[\"hora_ref\"][i].year, main_ds[\"hora_ref\"][i].month)"
   ]
  },
  {
   "cell_type": "code",
   "execution_count": 199,
   "id": "309a4004-71b0-4c11-bd77-97445daf0dee",
   "metadata": {},
   "outputs": [
    {
     "data": {
      "text/plain": [
       "metar(station_id='SBFL', latitude=-27.67, longitude=-48.53, elevation=5, date_time=nan, wind_direction=170, wind_speed=9.0, wind_gust=nan, visibility=9999, current_wx1=nan, current_wx2=nan, current_wx3=nan, skyc1='BKN', skylev1=3000.0, skyc2=nan, skylev2=nan, skyc3=nan, skylev3=nan, skyc4=nan, skylev4=nan, cloudcover=6, temperature=14.0, dewpoint=7.0, altimeter=30.1205829670303, current_wx1_symbol=0, current_wx2_symbol=0, current_wx3_symbol=0, remarks='')"
      ]
     },
     "execution_count": 199,
     "metadata": {},
     "output_type": "execute_result"
    }
   ],
   "source": [
    "mtio.metar.parse_metar(main_ds[\"metar\"][i], 0, 0)"
   ]
  },
  {
   "cell_type": "code",
   "execution_count": 200,
   "id": "ab90c747-e498-4110-9da6-e28c7838ebac",
   "metadata": {},
   "outputs": [
    {
     "data": {
      "text/plain": [
       "metar(station_id='ZZZZ', latitude=nan, longitude=nan, elevation=nan, date_time=nan, wind_direction=nan, wind_speed=nan, wind_gust=nan, visibility=nan, current_wx1=nan, current_wx2=nan, current_wx3=nan, skyc1=nan, skylev1=nan, skyc2=nan, skylev2=nan, skyc3=nan, skylev3=nan, skyc4=nan, skylev4=nan, cloudcover=10, temperature=nan, dewpoint=nan, altimeter=nan, current_wx1_symbol=0, current_wx2_symbol=0, current_wx3_symbol=0, remarks='')"
      ]
     },
     "execution_count": 200,
     "metadata": {},
     "output_type": "execute_result"
    }
   ],
   "source": [
    "mtio.metar.parse_metar(\"METAR ZZZZ 000000Z\", 0, 0)"
   ]
  },
  {
   "cell_type": "code",
   "execution_count": 201,
   "id": "d53d3e11-6416-48b1-9471-3799fd8e5e11",
   "metadata": {},
   "outputs": [],
   "source": [
    "main_ds = main_ds.with_columns(\n",
    "    pl.col(\"metar\").fill_null(\"\")\n",
    ")"
   ]
  },
  {
   "cell_type": "code",
   "execution_count": 221,
   "id": "437b264b-8243-4242-a684-9a67c761859f",
   "metadata": {},
   "outputs": [],
   "source": [
    "def get_parsed_metars(dataset):\n",
    "    n = dataset.shape[0]\n",
    "    elevs = []\n",
    "    temps = []\n",
    "    dew_pts = []\n",
    "    visibs = []\n",
    "    wind_dirs = []\n",
    "    wind_spds = []\n",
    "    wind_gusts = []\n",
    "    skyc1s = []\n",
    "    skylev1s = []\n",
    "    skyc2s = []\n",
    "    skylev2s = []\n",
    "    skyc3s = []\n",
    "    skylev3s = []\n",
    "    skyc4s = []\n",
    "    skylev4s = []\n",
    "    cloud_covs = []\n",
    "    altimeters = []\n",
    "    pressures = [] # mtcl.altimeter_to_sea_level_pressure\n",
    "\n",
    "    for i in tqdm(range(n)):\n",
    "        metar = main_ds[\"metar\"][i]\n",
    "        hora_ref = main_ds[\"hora_ref\"][i]\n",
    "        if metar == \"\":\n",
    "            elevs.append(None)\n",
    "            temps.append(None)\n",
    "            dew_pts.append(None)\n",
    "            visibs.append(None)\n",
    "            wind_dirs.append(None)\n",
    "            wind_spds.append(None)\n",
    "            wind_gusts.append(None)\n",
    "            skyc1s.append(None)\n",
    "            skylev1s.append(None)\n",
    "            skyc2s.append(None)\n",
    "            skylev2s.append(None)\n",
    "            skyc3s.append(None)\n",
    "            skylev3s.append(None)\n",
    "            skyc4s.append(None)\n",
    "            skylev4s.append(None)\n",
    "            cloud_covs.append(None)\n",
    "            altimeters.append(None)\n",
    "            pressures.append(None)\n",
    "            continue\n",
    "        try:\n",
    "            metar = metar.replace(\" COR \", \" \")\n",
    "            metar = metar.replace(\" AUTO \", \" \")\n",
    "            metar = metar.replace(\" AO1 \", \" \")\n",
    "            metar = metar.replace(\" AO2 \", \" \")\n",
    "            metar = mtio.metar.parse_metar(metar, hora_ref.year, hora_ref.month)\n",
    "            elevs.append(None if math.isnan(metar.elevation) else metar.elevation)\n",
    "            temps.append(None if math.isnan(metar.temperature) else metar.temperature)\n",
    "            dew_pts.append(None if math.isnan(metar.dewpoint) else metar.dewpoint)\n",
    "            visibs.append(None if math.isnan(metar.visibility) else metar.visibility)\n",
    "            wind_dirs.append(None if math.isnan(metar.wind_direction) else np.deg2rad(metar.wind_direction))\n",
    "            wind_spds.append(None if math.isnan(metar.wind_speed) else metar.wind_speed)\n",
    "            wind_gusts.append(None if math.isnan(metar.wind_gust) else metar.wind_gust)\n",
    "            skyc1s.append(None if type(metar.skyc1) != str else metar.skyc1)\n",
    "            skylev1s.append(None if math.isnan(metar.skylev1) else metar.skylev1)\n",
    "            skyc2s.append(None if type(metar.skyc2) != str else metar.skyc2)\n",
    "            skylev2s.append(None if math.isnan(metar.skylev2) else metar.skylev2)\n",
    "            skyc3s.append(None if type(metar.skyc3) != str else metar.skyc3)\n",
    "            skylev3s.append(None if math.isnan(metar.skylev3) else metar.skylev3)\n",
    "            skyc4s.append(None if type(metar.skyc4) != str else metar.skyc4)\n",
    "            skylev4s.append(None if math.isnan(metar.skylev4) else metar.skylev4)\n",
    "            cloud_covs.append(None if math.isnan(metar.cloudcover) else metar.cloudcover)\n",
    "            altimeters.append(None if math.isnan(metar.altimeter) else metar.altimeter)\n",
    "            if not (math.isnan(metar.altimeter) or math.isnan(metar.elevation) or math.isnan(metar.temperature)):\n",
    "                pressures.append(mtcl.altimeter_to_station_pressure(\n",
    "                    mtun.pint.Quantity(metar.altimeter, \"inHg\"), \n",
    "                    mtun.pint.Quantity(metar.elevation, \"meters\")\n",
    "                ).to(\"hPa\").magnitude / 1_013.25) # convert to 'atm'\n",
    "            else:\n",
    "                pressures.append(None)\n",
    "        except Exception as e:\n",
    "            print(e)\n",
    "            elevs.append(None)\n",
    "            temps.append(None)\n",
    "            dew_pts.append(None)\n",
    "            visibs.append(None)\n",
    "            wind_dirs.append(None)\n",
    "            wind_spds.append(None)\n",
    "            wind_gusts.append(None)\n",
    "            skyc1s.append(None)\n",
    "            skylev1s.append(None)\n",
    "            skyc2s.append(None)\n",
    "            skylev2s.append(None)\n",
    "            skyc3s.append(None)\n",
    "            skylev3s.append(None)\n",
    "            skyc4s.append(None)\n",
    "            skylev4s.append(None)\n",
    "            cloud_covs.append(None)\n",
    "            altimeters.append(None)\n",
    "            pressures.append(None)\n",
    "    return elevs, temps, dew_pts, visibs, wind_dirs, wind_spds, wind_gusts, skyc1s, skylev1s, \\\n",
    "            skyc2s, skylev2s, skyc3s, skylev3s, skyc4s, skylev4s, cloud_covs, altimeters, pressures"
   ]
  },
  {
   "cell_type": "code",
   "execution_count": 222,
   "id": "7a9e8e2f-f7b6-41e9-b37a-0ceabcf9764d",
   "metadata": {},
   "outputs": [
    {
     "name": "stderr",
     "output_type": "stream",
     "text": [
      " 71%|█████████████████████████████████████████████████████████████████                           | 149805/211679 [03:14<01:19, 779.62it/s]"
     ]
    },
    {
     "name": "stdout",
     "output_type": "stream",
     "text": [
      "Line 1: expected one of:\n",
      "\n",
      "    - [\\d] from METAR::datetime\n",
      "    - \"Z\" from METAR::datetime\n",
      "\n",
      "     1 | METAR SBSV 051300 10012KT 9999 FEW021 SCT050 28/24 Q1014=\n",
      "                          ^\n",
      "Line 1: expected one of:\n",
      "\n",
      "    - [\\d] from METAR::datetime\n",
      "    - \"Z\" from METAR::datetime\n",
      "\n",
      "     1 | METAR SBSV 051300 10012KT 9999 FEW021 SCT050 28/24 Q1014=\n",
      "                          ^\n",
      "Line 1: expected one of:\n",
      "\n",
      "    - [\\d] from METAR::datetime\n",
      "    - \"Z\" from METAR::datetime\n",
      "\n",
      "     1 | METAR SBSV 051400 09013KT 9999 VCSH FEW021 SCT050 29/24 Q1013=\n",
      "                          ^\n",
      "Line 1: expected one of:\n",
      "\n",
      "    - [\\d] from METAR::datetime\n",
      "    - \"Z\" from METAR::datetime\n",
      "\n",
      "     1 | METAR SBSV 051400 09013KT 9999 VCSH FEW021 SCT050 29/24 Q1013=\n",
      "                          ^\n",
      "Line 1: expected one of:\n",
      "\n",
      "    - [\\d] from METAR::datetime\n",
      "    - \"Z\" from METAR::datetime\n",
      "\n",
      "     1 | METAR SBSV 051400 09013KT 9999 VCSH FEW021 SCT050 29/24 Q1013=\n",
      "                          ^\n",
      "Line 1: expected one of:\n",
      "\n",
      "    - [\\d] from METAR::datetime\n",
      "    - \"Z\" from METAR::datetime\n",
      "\n",
      "     1 | METAR SBSV 051400 09013KT 9999 VCSH FEW021 SCT050 29/24 Q1013=\n",
      "                          ^\n",
      "Line 1: expected one of:\n",
      "\n",
      "    - [\\d] from METAR::datetime\n",
      "    - \"Z\" from METAR::datetime\n",
      "\n",
      "     1 | METAR SBSV 051400 09013KT 9999 VCSH FEW021 SCT050 29/24 Q1013=\n",
      "                          ^\n",
      "Line 1: expected one of:\n",
      "\n",
      "    - [\\d] from METAR::datetime\n",
      "    - \"Z\" from METAR::datetime\n",
      "\n",
      "     1 | METAR SBSV 051400 09013KT 9999 VCSH FEW021 SCT050 29/24 Q1013=\n",
      "                          ^\n",
      "Line 1: expected one of:\n",
      "\n",
      "    - [\\d] from METAR::datetime\n",
      "    - \"Z\" from METAR::datetime\n",
      "\n",
      "     1 | METAR SBSV 051400 09013KT 9999 VCSH FEW021 SCT050 29/24 Q1013=\n",
      "                          ^\n",
      "Line 1: expected one of:\n",
      "\n",
      "    - [\\d] from METAR::datetime\n",
      "    - \"Z\" from METAR::datetime\n",
      "\n",
      "     1 | METAR SBSV 051400 09013KT 9999 VCSH FEW021 SCT050 29/24 Q1013=\n",
      "                          ^\n"
     ]
    },
    {
     "name": "stderr",
     "output_type": "stream",
     "text": [
      " 78%|███████████████████████████████████████████████████████████████████████▌                    | 164575/211679 [03:33<00:59, 793.58it/s]"
     ]
    },
    {
     "name": "stdout",
     "output_type": "stream",
     "text": [
      "Line 1: expected one of:\n",
      "\n",
      "    - [\\d] from METAR::datetime\n",
      "    - \"Z\" from METAR::datetime\n",
      "\n",
      "     1 | METAR SBFL 221300 17006KT 9999 BKN020 24/16 Q1017=\n",
      "                          ^\n",
      "Line 1: expected one of:\n",
      "\n",
      "    - [\\d] from METAR::datetime\n",
      "    - \"Z\" from METAR::datetime\n",
      "\n",
      "     1 | METAR SBFL 221300 17006KT 9999 BKN020 24/16 Q1017=\n",
      "                          ^\n"
     ]
    },
    {
     "name": "stderr",
     "output_type": "stream",
     "text": [
      "100%|████████████████████████████████████████████████████████████████████████████████████████████| 211679/211679 [04:40<00:00, 755.45it/s]\n"
     ]
    },
    {
     "data": {
      "text/html": [
       "<div><style>\n",
       ".dataframe > thead > tr,\n",
       ".dataframe > tbody > tr {\n",
       "  text-align: right;\n",
       "  white-space: pre-wrap;\n",
       "}\n",
       "</style>\n",
       "<small>shape: (211_679, 18)</small><table border=\"1\" class=\"dataframe\"><thead><tr><th>elevation</th><th>air_temperature</th><th>dew_point_temp</th><th>visibility</th><th>wind_direction_rad</th><th>wind_speed</th><th>wind_gust</th><th>low_cloud_type</th><th>low_cloud_level</th><th>medium_cloud_type</th><th>medium_cloud_level</th><th>high_cloud_type</th><th>high_cloud_level</th><th>highest_cloud_type</th><th>highest_cloud_level</th><th>cloud_coverage_oktas</th><th>altimeter</th><th>pressure_station_level_atm</th></tr><tr><td>i64</td><td>f64</td><td>f64</td><td>i64</td><td>f64</td><td>f64</td><td>f64</td><td>str</td><td>f64</td><td>str</td><td>f64</td><td>str</td><td>f64</td><td>str</td><td>f64</td><td>i64</td><td>f64</td><td>f64</td></tr></thead><tbody><tr><td>5</td><td>14.0</td><td>7.0</td><td>9999</td><td>2.96706</td><td>9.0</td><td>null</td><td>&quot;BKN&quot;</td><td>3000.0</td><td>null</td><td>null</td><td>null</td><td>null</td><td>null</td><td>null</td><td>6</td><td>30.120583</td><td>1.006362</td></tr><tr><td>5</td><td>14.0</td><td>7.0</td><td>9999</td><td>2.96706</td><td>9.0</td><td>null</td><td>&quot;BKN&quot;</td><td>3000.0</td><td>null</td><td>null</td><td>null</td><td>null</td><td>null</td><td>null</td><td>6</td><td>30.120583</td><td>1.006362</td></tr><tr><td>828</td><td>21.0</td><td>14.0</td><td>10000</td><td>2.094395</td><td>6.0</td><td>null</td><td>null</td><td>null</td><td>null</td><td>null</td><td>null</td><td>null</td><td>null</td><td>null</td><td>0</td><td>30.061523</td><td>0.910229</td></tr><tr><td>908</td><td>10.0</td><td>10.0</td><td>7000</td><td>1.745329</td><td>6.0</td><td>null</td><td>&quot;BKN&quot;</td><td>400.0</td><td>&quot;OVC&quot;</td><td>1200.0</td><td>null</td><td>null</td><td>null</td><td>null</td><td>8</td><td>30.091053</td><td>0.902375</td></tr><tr><td>6</td><td>27.0</td><td>21.0</td><td>9999</td><td>1.919862</td><td>8.0</td><td>null</td><td>&quot;FEW&quot;</td><td>2300.0</td><td>null</td><td>null</td><td>null</td><td>null</td><td>null</td><td>null</td><td>2</td><td>29.943403</td><td>1.000324</td></tr><tr><td>&hellip;</td><td>&hellip;</td><td>&hellip;</td><td>&hellip;</td><td>&hellip;</td><td>&hellip;</td><td>&hellip;</td><td>&hellip;</td><td>&hellip;</td><td>&hellip;</td><td>&hellip;</td><td>&hellip;</td><td>&hellip;</td><td>&hellip;</td><td>&hellip;</td><td>&hellip;</td><td>&hellip;</td><td>&hellip;</td></tr><tr><td>803</td><td>23.0</td><td>17.0</td><td>9999</td><td>6.108652</td><td>14.0</td><td>null</td><td>&quot;SCT&quot;</td><td>3000.0</td><td>null</td><td>null</td><td>null</td><td>null</td><td>null</td><td>null</td><td>4</td><td>29.854813</td><td>0.906588</td></tr><tr><td>19</td><td>29.0</td><td>23.0</td><td>9999</td><td>1.745329</td><td>7.0</td><td>null</td><td>&quot;BKN&quot;</td><td>2000.0</td><td>null</td><td>null</td><td>null</td><td>null</td><td>null</td><td>null</td><td>6</td><td>29.854813</td><td>0.995828</td></tr><tr><td>3</td><td>29.0</td><td>22.0</td><td>9999</td><td>5.585054</td><td>10.0</td><td>null</td><td>&quot;FEW&quot;</td><td>3500.0</td><td>&quot;BKN&quot;</td><td>10000.0</td><td>null</td><td>null</td><td>null</td><td>null</td><td>6</td><td>29.677633</td><td>0.9918</td></tr><tr><td>661</td><td>24.0</td><td>19.0</td><td>9999</td><td>6.283185</td><td>12.0</td><td>null</td><td>&quot;FEW&quot;</td><td>2300.0</td><td>null</td><td>null</td><td>null</td><td>null</td><td>null</td><td>null</td><td>2</td><td>29.854813</td><td>0.922252</td></tr><tr><td>803</td><td>23.0</td><td>17.0</td><td>9999</td><td>6.108652</td><td>14.0</td><td>null</td><td>&quot;SCT&quot;</td><td>3000.0</td><td>null</td><td>null</td><td>null</td><td>null</td><td>null</td><td>null</td><td>4</td><td>29.854813</td><td>0.906588</td></tr></tbody></table></div>"
      ],
      "text/plain": [
       "shape: (211_679, 18)\n",
       "┌───────────┬─────────────────┬────────────────┬────────────┬───┬────────────────────┬────────────────────┬───────────┬───────────────────┐\n",
       "│ elevation ┆ air_temperature ┆ dew_point_temp ┆ visibility ┆ … ┆ highest_cloud_leve ┆ cloud_coverage_okt ┆ altimeter ┆ pressure_station_ │\n",
       "│ ---       ┆ ---             ┆ ---            ┆ ---        ┆   ┆ l                  ┆ as                 ┆ ---       ┆ level_atm         │\n",
       "│ i64       ┆ f64             ┆ f64            ┆ i64        ┆   ┆ ---                ┆ ---                ┆ f64       ┆ ---               │\n",
       "│           ┆                 ┆                ┆            ┆   ┆ f64                ┆ i64                ┆           ┆ f64               │\n",
       "╞═══════════╪═════════════════╪════════════════╪════════════╪═══╪════════════════════╪════════════════════╪═══════════╪═══════════════════╡\n",
       "│ 5         ┆ 14.0            ┆ 7.0            ┆ 9999       ┆ … ┆ null               ┆ 6                  ┆ 30.120583 ┆ 1.006362          │\n",
       "│ 5         ┆ 14.0            ┆ 7.0            ┆ 9999       ┆ … ┆ null               ┆ 6                  ┆ 30.120583 ┆ 1.006362          │\n",
       "│ 828       ┆ 21.0            ┆ 14.0           ┆ 10000      ┆ … ┆ null               ┆ 0                  ┆ 30.061523 ┆ 0.910229          │\n",
       "│ 908       ┆ 10.0            ┆ 10.0           ┆ 7000       ┆ … ┆ null               ┆ 8                  ┆ 30.091053 ┆ 0.902375          │\n",
       "│ 6         ┆ 27.0            ┆ 21.0           ┆ 9999       ┆ … ┆ null               ┆ 2                  ┆ 29.943403 ┆ 1.000324          │\n",
       "│ …         ┆ …               ┆ …              ┆ …          ┆ … ┆ …                  ┆ …                  ┆ …         ┆ …                 │\n",
       "│ 803       ┆ 23.0            ┆ 17.0           ┆ 9999       ┆ … ┆ null               ┆ 4                  ┆ 29.854813 ┆ 0.906588          │\n",
       "│ 19        ┆ 29.0            ┆ 23.0           ┆ 9999       ┆ … ┆ null               ┆ 6                  ┆ 29.854813 ┆ 0.995828          │\n",
       "│ 3         ┆ 29.0            ┆ 22.0           ┆ 9999       ┆ … ┆ null               ┆ 6                  ┆ 29.677633 ┆ 0.9918            │\n",
       "│ 661       ┆ 24.0            ┆ 19.0           ┆ 9999       ┆ … ┆ null               ┆ 2                  ┆ 29.854813 ┆ 0.922252          │\n",
       "│ 803       ┆ 23.0            ┆ 17.0           ┆ 9999       ┆ … ┆ null               ┆ 4                  ┆ 29.854813 ┆ 0.906588          │\n",
       "└───────────┴─────────────────┴────────────────┴────────────┴───┴────────────────────┴────────────────────┴───────────┴───────────────────┘"
      ]
     },
     "execution_count": 222,
     "metadata": {},
     "output_type": "execute_result"
    }
   ],
   "source": [
    "columns = [\n",
    "    \"elevation\", \"air_temperature\", \"dew_point_temp\", \"visibility\", \"wind_direction_rad\", \"wind_speed\", \"wind_gust\", \n",
    "    \"low_cloud_type\", \"low_cloud_level\", \"medium_cloud_type\", \"medium_cloud_level\", \"high_cloud_type\", \n",
    "    \"high_cloud_level\", \"highest_cloud_type\", \"highest_cloud_level\", \"cloud_coverage_oktas\", \"altimeter\", \"pressure_station_level_atm\"\n",
    "]\n",
    "metar_data = get_parsed_metars(main_ds)\n",
    "metar_data = pl.DataFrame(metar_data, schema=columns)\n",
    "metar_data"
   ]
  },
  {
   "cell_type": "code",
   "execution_count": null,
   "id": "026bf17b-7284-47bd-b6d8-53bfbdec1ced",
   "metadata": {},
   "outputs": [],
   "source": []
  }
 ],
 "metadata": {
  "kernelspec": {
   "display_name": "Python 3 (ipykernel)",
   "language": "python",
   "name": "python3"
  },
  "language_info": {
   "codemirror_mode": {
    "name": "ipython",
    "version": 3
   },
   "file_extension": ".py",
   "mimetype": "text/x-python",
   "name": "python",
   "nbconvert_exporter": "python",
   "pygments_lexer": "ipython3",
   "version": "3.12.2"
  }
 },
 "nbformat": 4,
 "nbformat_minor": 5
}
